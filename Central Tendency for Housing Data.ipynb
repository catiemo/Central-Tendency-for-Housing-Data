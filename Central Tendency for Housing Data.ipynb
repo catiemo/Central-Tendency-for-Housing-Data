{
 "cells": [
  {
   "cell_type": "markdown",
   "id": "50377176",
   "metadata": {},
   "source": [
    "### Importing packages"
   ]
  },
  {
   "cell_type": "code",
   "execution_count": 1,
   "id": "650025bb",
   "metadata": {},
   "outputs": [],
   "source": [
    "import numpy as np\n",
    "import pandas as pd\n",
    "from scipy import stats"
   ]
  },
  {
   "cell_type": "markdown",
   "id": "2002f36a",
   "metadata": {},
   "source": [
    "### Reading csv file"
   ]
  },
  {
   "cell_type": "code",
   "execution_count": 2,
   "id": "7a4df1d9",
   "metadata": {},
   "outputs": [
    {
     "data": {
      "text/html": [
       "<div>\n",
       "<style scoped>\n",
       "    .dataframe tbody tr th:only-of-type {\n",
       "        vertical-align: middle;\n",
       "    }\n",
       "\n",
       "    .dataframe tbody tr th {\n",
       "        vertical-align: top;\n",
       "    }\n",
       "\n",
       "    .dataframe thead th {\n",
       "        text-align: right;\n",
       "    }\n",
       "</style>\n",
       "<table border=\"1\" class=\"dataframe\">\n",
       "  <thead>\n",
       "    <tr style=\"text-align: right;\">\n",
       "      <th></th>\n",
       "      <th>rental_id</th>\n",
       "      <th>rent</th>\n",
       "      <th>bedrooms</th>\n",
       "      <th>bathrooms</th>\n",
       "      <th>size_sqft</th>\n",
       "      <th>min_to_subway</th>\n",
       "      <th>floor</th>\n",
       "      <th>building_age_yrs</th>\n",
       "      <th>no_fee</th>\n",
       "      <th>has_roofdeck</th>\n",
       "      <th>has_washer_dryer</th>\n",
       "      <th>has_doorman</th>\n",
       "      <th>has_elevator</th>\n",
       "      <th>has_dishwasher</th>\n",
       "      <th>has_patio</th>\n",
       "      <th>has_gym</th>\n",
       "      <th>neighborhood</th>\n",
       "      <th>borough</th>\n",
       "    </tr>\n",
       "  </thead>\n",
       "  <tbody>\n",
       "    <tr>\n",
       "      <th>0</th>\n",
       "      <td>2869</td>\n",
       "      <td>3600</td>\n",
       "      <td>3.0</td>\n",
       "      <td>2</td>\n",
       "      <td>900</td>\n",
       "      <td>4</td>\n",
       "      <td>1.0</td>\n",
       "      <td>15</td>\n",
       "      <td>1</td>\n",
       "      <td>0</td>\n",
       "      <td>0</td>\n",
       "      <td>0</td>\n",
       "      <td>0</td>\n",
       "      <td>0</td>\n",
       "      <td>0</td>\n",
       "      <td>0</td>\n",
       "      <td>Williamsburg</td>\n",
       "      <td>Brooklyn</td>\n",
       "    </tr>\n",
       "    <tr>\n",
       "      <th>1</th>\n",
       "      <td>4318</td>\n",
       "      <td>3900</td>\n",
       "      <td>3.0</td>\n",
       "      <td>2</td>\n",
       "      <td>1000</td>\n",
       "      <td>4</td>\n",
       "      <td>9.0</td>\n",
       "      <td>8</td>\n",
       "      <td>0</td>\n",
       "      <td>0</td>\n",
       "      <td>0</td>\n",
       "      <td>0</td>\n",
       "      <td>1</td>\n",
       "      <td>0</td>\n",
       "      <td>0</td>\n",
       "      <td>0</td>\n",
       "      <td>Greenwood</td>\n",
       "      <td>Brooklyn</td>\n",
       "    </tr>\n",
       "    <tr>\n",
       "      <th>2</th>\n",
       "      <td>6265</td>\n",
       "      <td>2700</td>\n",
       "      <td>2.0</td>\n",
       "      <td>1</td>\n",
       "      <td>900</td>\n",
       "      <td>4</td>\n",
       "      <td>2.0</td>\n",
       "      <td>96</td>\n",
       "      <td>0</td>\n",
       "      <td>0</td>\n",
       "      <td>0</td>\n",
       "      <td>0</td>\n",
       "      <td>0</td>\n",
       "      <td>0</td>\n",
       "      <td>0</td>\n",
       "      <td>0</td>\n",
       "      <td>Gowanus</td>\n",
       "      <td>Brooklyn</td>\n",
       "    </tr>\n",
       "    <tr>\n",
       "      <th>3</th>\n",
       "      <td>24</td>\n",
       "      <td>4900</td>\n",
       "      <td>1.0</td>\n",
       "      <td>1</td>\n",
       "      <td>1216</td>\n",
       "      <td>6</td>\n",
       "      <td>3.0</td>\n",
       "      <td>88</td>\n",
       "      <td>0</td>\n",
       "      <td>0</td>\n",
       "      <td>0</td>\n",
       "      <td>0</td>\n",
       "      <td>0</td>\n",
       "      <td>0</td>\n",
       "      <td>0</td>\n",
       "      <td>0</td>\n",
       "      <td>Brooklyn Heights</td>\n",
       "      <td>Brooklyn</td>\n",
       "    </tr>\n",
       "    <tr>\n",
       "      <th>4</th>\n",
       "      <td>9481</td>\n",
       "      <td>3900</td>\n",
       "      <td>0.0</td>\n",
       "      <td>1</td>\n",
       "      <td>1100</td>\n",
       "      <td>3</td>\n",
       "      <td>4.0</td>\n",
       "      <td>85</td>\n",
       "      <td>1</td>\n",
       "      <td>0</td>\n",
       "      <td>0</td>\n",
       "      <td>0</td>\n",
       "      <td>0</td>\n",
       "      <td>0</td>\n",
       "      <td>0</td>\n",
       "      <td>0</td>\n",
       "      <td>Williamsburg</td>\n",
       "      <td>Brooklyn</td>\n",
       "    </tr>\n",
       "  </tbody>\n",
       "</table>\n",
       "</div>"
      ],
      "text/plain": [
       "   rental_id  rent  bedrooms  bathrooms  size_sqft  min_to_subway  floor  \\\n",
       "0       2869  3600       3.0          2        900              4    1.0   \n",
       "1       4318  3900       3.0          2       1000              4    9.0   \n",
       "2       6265  2700       2.0          1        900              4    2.0   \n",
       "3         24  4900       1.0          1       1216              6    3.0   \n",
       "4       9481  3900       0.0          1       1100              3    4.0   \n",
       "\n",
       "   building_age_yrs  no_fee  has_roofdeck  has_washer_dryer  has_doorman  \\\n",
       "0                15       1             0                 0            0   \n",
       "1                 8       0             0                 0            0   \n",
       "2                96       0             0                 0            0   \n",
       "3                88       0             0                 0            0   \n",
       "4                85       1             0                 0            0   \n",
       "\n",
       "   has_elevator  has_dishwasher  has_patio  has_gym      neighborhood  \\\n",
       "0             0               0          0        0      Williamsburg   \n",
       "1             1               0          0        0         Greenwood   \n",
       "2             0               0          0        0           Gowanus   \n",
       "3             0               0          0        0  Brooklyn Heights   \n",
       "4             0               0          0        0      Williamsburg   \n",
       "\n",
       "    borough  \n",
       "0  Brooklyn  \n",
       "1  Brooklyn  \n",
       "2  Brooklyn  \n",
       "3  Brooklyn  \n",
       "4  Brooklyn  "
      ]
     },
     "execution_count": 2,
     "metadata": {},
     "output_type": "execute_result"
    }
   ],
   "source": [
    "brooklyn_one_bed = pd.read_csv('brooklyn-one-bed.csv')\n",
    "brooklyn_one_bed.head()"
   ]
  },
  {
   "cell_type": "code",
   "execution_count": 3,
   "id": "e9c6f7a6",
   "metadata": {},
   "outputs": [
    {
     "data": {
      "text/html": [
       "<div>\n",
       "<style scoped>\n",
       "    .dataframe tbody tr th:only-of-type {\n",
       "        vertical-align: middle;\n",
       "    }\n",
       "\n",
       "    .dataframe tbody tr th {\n",
       "        vertical-align: top;\n",
       "    }\n",
       "\n",
       "    .dataframe thead th {\n",
       "        text-align: right;\n",
       "    }\n",
       "</style>\n",
       "<table border=\"1\" class=\"dataframe\">\n",
       "  <thead>\n",
       "    <tr style=\"text-align: right;\">\n",
       "      <th></th>\n",
       "      <th>Unnamed: 0</th>\n",
       "      <th>rental_id</th>\n",
       "      <th>building_id</th>\n",
       "      <th>rent</th>\n",
       "      <th>bedrooms</th>\n",
       "      <th>bathrooms</th>\n",
       "      <th>size_sqft</th>\n",
       "      <th>min_to_subway</th>\n",
       "      <th>floor</th>\n",
       "      <th>building_age_yrs</th>\n",
       "      <th>...</th>\n",
       "      <th>has_roofdeck</th>\n",
       "      <th>has_washer_dryer</th>\n",
       "      <th>has_doorman</th>\n",
       "      <th>has_elevator</th>\n",
       "      <th>has_dishwasher</th>\n",
       "      <th>has_patio</th>\n",
       "      <th>has_gym</th>\n",
       "      <th>neighborhood</th>\n",
       "      <th>submarket</th>\n",
       "      <th>borough</th>\n",
       "    </tr>\n",
       "  </thead>\n",
       "  <tbody>\n",
       "    <tr>\n",
       "      <th>0</th>\n",
       "      <td>3</td>\n",
       "      <td>2919</td>\n",
       "      <td>76909719</td>\n",
       "      <td>4500</td>\n",
       "      <td>1.0</td>\n",
       "      <td>1</td>\n",
       "      <td>916</td>\n",
       "      <td>2</td>\n",
       "      <td>51.0</td>\n",
       "      <td>29</td>\n",
       "      <td>...</td>\n",
       "      <td>1</td>\n",
       "      <td>0</td>\n",
       "      <td>1</td>\n",
       "      <td>1</td>\n",
       "      <td>1</td>\n",
       "      <td>0</td>\n",
       "      <td>0</td>\n",
       "      <td>Midtown</td>\n",
       "      <td>All Midtown</td>\n",
       "      <td>Manhattan</td>\n",
       "    </tr>\n",
       "    <tr>\n",
       "      <th>1</th>\n",
       "      <td>4</td>\n",
       "      <td>2790</td>\n",
       "      <td>92953520</td>\n",
       "      <td>4795</td>\n",
       "      <td>1.0</td>\n",
       "      <td>1</td>\n",
       "      <td>975</td>\n",
       "      <td>3</td>\n",
       "      <td>8.0</td>\n",
       "      <td>31</td>\n",
       "      <td>...</td>\n",
       "      <td>0</td>\n",
       "      <td>0</td>\n",
       "      <td>1</td>\n",
       "      <td>1</td>\n",
       "      <td>1</td>\n",
       "      <td>0</td>\n",
       "      <td>1</td>\n",
       "      <td>Greenwich Village</td>\n",
       "      <td>All Downtown</td>\n",
       "      <td>Manhattan</td>\n",
       "    </tr>\n",
       "    <tr>\n",
       "      <th>2</th>\n",
       "      <td>15</td>\n",
       "      <td>1437</td>\n",
       "      <td>66221183</td>\n",
       "      <td>4650</td>\n",
       "      <td>1.0</td>\n",
       "      <td>1</td>\n",
       "      <td>915</td>\n",
       "      <td>5</td>\n",
       "      <td>5.0</td>\n",
       "      <td>106</td>\n",
       "      <td>...</td>\n",
       "      <td>0</td>\n",
       "      <td>0</td>\n",
       "      <td>0</td>\n",
       "      <td>0</td>\n",
       "      <td>0</td>\n",
       "      <td>0</td>\n",
       "      <td>0</td>\n",
       "      <td>Upper East Side</td>\n",
       "      <td>All Upper East Side</td>\n",
       "      <td>Manhattan</td>\n",
       "    </tr>\n",
       "    <tr>\n",
       "      <th>3</th>\n",
       "      <td>16</td>\n",
       "      <td>404</td>\n",
       "      <td>17340497</td>\n",
       "      <td>2950</td>\n",
       "      <td>1.0</td>\n",
       "      <td>1</td>\n",
       "      <td>550</td>\n",
       "      <td>43</td>\n",
       "      <td>17.0</td>\n",
       "      <td>14</td>\n",
       "      <td>...</td>\n",
       "      <td>1</td>\n",
       "      <td>0</td>\n",
       "      <td>1</td>\n",
       "      <td>1</td>\n",
       "      <td>0</td>\n",
       "      <td>0</td>\n",
       "      <td>0</td>\n",
       "      <td>Upper East Side</td>\n",
       "      <td>All Upper East Side</td>\n",
       "      <td>Manhattan</td>\n",
       "    </tr>\n",
       "    <tr>\n",
       "      <th>4</th>\n",
       "      <td>19</td>\n",
       "      <td>6594</td>\n",
       "      <td>9417041</td>\n",
       "      <td>4875</td>\n",
       "      <td>1.0</td>\n",
       "      <td>1</td>\n",
       "      <td>900</td>\n",
       "      <td>1</td>\n",
       "      <td>14.0</td>\n",
       "      <td>52</td>\n",
       "      <td>...</td>\n",
       "      <td>0</td>\n",
       "      <td>1</td>\n",
       "      <td>1</td>\n",
       "      <td>1</td>\n",
       "      <td>1</td>\n",
       "      <td>0</td>\n",
       "      <td>1</td>\n",
       "      <td>East Village</td>\n",
       "      <td>All Downtown</td>\n",
       "      <td>Manhattan</td>\n",
       "    </tr>\n",
       "  </tbody>\n",
       "</table>\n",
       "<p>5 rows × 21 columns</p>\n",
       "</div>"
      ],
      "text/plain": [
       "   Unnamed: 0  rental_id  building_id  rent  bedrooms  bathrooms  size_sqft  \\\n",
       "0           3       2919     76909719  4500       1.0          1        916   \n",
       "1           4       2790     92953520  4795       1.0          1        975   \n",
       "2          15       1437     66221183  4650       1.0          1        915   \n",
       "3          16        404     17340497  2950       1.0          1        550   \n",
       "4          19       6594      9417041  4875       1.0          1        900   \n",
       "\n",
       "   min_to_subway  floor  building_age_yrs  ...  has_roofdeck  \\\n",
       "0              2   51.0                29  ...             1   \n",
       "1              3    8.0                31  ...             0   \n",
       "2              5    5.0               106  ...             0   \n",
       "3             43   17.0                14  ...             1   \n",
       "4              1   14.0                52  ...             0   \n",
       "\n",
       "   has_washer_dryer  has_doorman  has_elevator  has_dishwasher  has_patio  \\\n",
       "0                 0            1             1               1          0   \n",
       "1                 0            1             1               1          0   \n",
       "2                 0            0             0               0          0   \n",
       "3                 0            1             1               0          0   \n",
       "4                 1            1             1               1          0   \n",
       "\n",
       "   has_gym       neighborhood            submarket    borough  \n",
       "0        0            Midtown          All Midtown  Manhattan  \n",
       "1        1  Greenwich Village         All Downtown  Manhattan  \n",
       "2        0    Upper East Side  All Upper East Side  Manhattan  \n",
       "3        0    Upper East Side  All Upper East Side  Manhattan  \n",
       "4        1       East Village         All Downtown  Manhattan  \n",
       "\n",
       "[5 rows x 21 columns]"
      ]
     },
     "execution_count": 3,
     "metadata": {},
     "output_type": "execute_result"
    }
   ],
   "source": [
    "manhattan_one_bed = pd.read_csv('manhattan-one-bed.csv')\n",
    "manhattan_one_bed.head()"
   ]
  },
  {
   "cell_type": "code",
   "execution_count": 4,
   "id": "d4fb75e1",
   "metadata": {},
   "outputs": [
    {
     "data": {
      "text/html": [
       "<div>\n",
       "<style scoped>\n",
       "    .dataframe tbody tr th:only-of-type {\n",
       "        vertical-align: middle;\n",
       "    }\n",
       "\n",
       "    .dataframe tbody tr th {\n",
       "        vertical-align: top;\n",
       "    }\n",
       "\n",
       "    .dataframe thead th {\n",
       "        text-align: right;\n",
       "    }\n",
       "</style>\n",
       "<table border=\"1\" class=\"dataframe\">\n",
       "  <thead>\n",
       "    <tr style=\"text-align: right;\">\n",
       "      <th></th>\n",
       "      <th>Unnamed: 0</th>\n",
       "      <th>rental_id</th>\n",
       "      <th>building_id</th>\n",
       "      <th>rent</th>\n",
       "      <th>bedrooms</th>\n",
       "      <th>bathrooms</th>\n",
       "      <th>size_sqft</th>\n",
       "      <th>min_to_subway</th>\n",
       "      <th>floor</th>\n",
       "      <th>building_age_yrs</th>\n",
       "      <th>...</th>\n",
       "      <th>has_roofdeck</th>\n",
       "      <th>has_washer_dryer</th>\n",
       "      <th>has_doorman</th>\n",
       "      <th>has_elevator</th>\n",
       "      <th>has_dishwasher</th>\n",
       "      <th>has_patio</th>\n",
       "      <th>has_gym</th>\n",
       "      <th>neighborhood</th>\n",
       "      <th>submarket</th>\n",
       "      <th>borough</th>\n",
       "    </tr>\n",
       "  </thead>\n",
       "  <tbody>\n",
       "    <tr>\n",
       "      <th>0</th>\n",
       "      <td>6</td>\n",
       "      <td>10524</td>\n",
       "      <td>60898078</td>\n",
       "      <td>1950</td>\n",
       "      <td>1.0</td>\n",
       "      <td>1</td>\n",
       "      <td>950</td>\n",
       "      <td>1</td>\n",
       "      <td>3.0</td>\n",
       "      <td>83</td>\n",
       "      <td>...</td>\n",
       "      <td>0</td>\n",
       "      <td>0</td>\n",
       "      <td>0</td>\n",
       "      <td>0</td>\n",
       "      <td>0</td>\n",
       "      <td>0</td>\n",
       "      <td>0</td>\n",
       "      <td>Forest Hills</td>\n",
       "      <td>Central Queens</td>\n",
       "      <td>Queens</td>\n",
       "    </tr>\n",
       "    <tr>\n",
       "      <th>1</th>\n",
       "      <td>8</td>\n",
       "      <td>5465</td>\n",
       "      <td>73060494</td>\n",
       "      <td>3500</td>\n",
       "      <td>1.0</td>\n",
       "      <td>1</td>\n",
       "      <td>996</td>\n",
       "      <td>9</td>\n",
       "      <td>7.0</td>\n",
       "      <td>3</td>\n",
       "      <td>...</td>\n",
       "      <td>0</td>\n",
       "      <td>0</td>\n",
       "      <td>0</td>\n",
       "      <td>0</td>\n",
       "      <td>0</td>\n",
       "      <td>0</td>\n",
       "      <td>0</td>\n",
       "      <td>Astoria</td>\n",
       "      <td>Northwest Queens</td>\n",
       "      <td>Queens</td>\n",
       "    </tr>\n",
       "    <tr>\n",
       "      <th>2</th>\n",
       "      <td>21</td>\n",
       "      <td>5259</td>\n",
       "      <td>2540088</td>\n",
       "      <td>1725</td>\n",
       "      <td>1.0</td>\n",
       "      <td>1</td>\n",
       "      <td>800</td>\n",
       "      <td>1</td>\n",
       "      <td>2.0</td>\n",
       "      <td>89</td>\n",
       "      <td>...</td>\n",
       "      <td>0</td>\n",
       "      <td>0</td>\n",
       "      <td>0</td>\n",
       "      <td>0</td>\n",
       "      <td>0</td>\n",
       "      <td>0</td>\n",
       "      <td>0</td>\n",
       "      <td>Astoria</td>\n",
       "      <td>Northwest Queens</td>\n",
       "      <td>Queens</td>\n",
       "    </tr>\n",
       "    <tr>\n",
       "      <th>3</th>\n",
       "      <td>25</td>\n",
       "      <td>9736</td>\n",
       "      <td>5154242</td>\n",
       "      <td>1700</td>\n",
       "      <td>1.0</td>\n",
       "      <td>1</td>\n",
       "      <td>730</td>\n",
       "      <td>10</td>\n",
       "      <td>3.0</td>\n",
       "      <td>7</td>\n",
       "      <td>...</td>\n",
       "      <td>0</td>\n",
       "      <td>0</td>\n",
       "      <td>0</td>\n",
       "      <td>0</td>\n",
       "      <td>0</td>\n",
       "      <td>0</td>\n",
       "      <td>0</td>\n",
       "      <td>Briarwood</td>\n",
       "      <td>Northeast Queens</td>\n",
       "      <td>Queens</td>\n",
       "    </tr>\n",
       "    <tr>\n",
       "      <th>4</th>\n",
       "      <td>59</td>\n",
       "      <td>3545</td>\n",
       "      <td>70847172</td>\n",
       "      <td>3100</td>\n",
       "      <td>1.0</td>\n",
       "      <td>1</td>\n",
       "      <td>787</td>\n",
       "      <td>6</td>\n",
       "      <td>3.0</td>\n",
       "      <td>9</td>\n",
       "      <td>...</td>\n",
       "      <td>1</td>\n",
       "      <td>0</td>\n",
       "      <td>1</td>\n",
       "      <td>1</td>\n",
       "      <td>0</td>\n",
       "      <td>1</td>\n",
       "      <td>0</td>\n",
       "      <td>Long Island City</td>\n",
       "      <td>Northwest Queens</td>\n",
       "      <td>Queens</td>\n",
       "    </tr>\n",
       "  </tbody>\n",
       "</table>\n",
       "<p>5 rows × 21 columns</p>\n",
       "</div>"
      ],
      "text/plain": [
       "   Unnamed: 0  rental_id  building_id  rent  bedrooms  bathrooms  size_sqft  \\\n",
       "0           6      10524     60898078  1950       1.0          1        950   \n",
       "1           8       5465     73060494  3500       1.0          1        996   \n",
       "2          21       5259      2540088  1725       1.0          1        800   \n",
       "3          25       9736      5154242  1700       1.0          1        730   \n",
       "4          59       3545     70847172  3100       1.0          1        787   \n",
       "\n",
       "   min_to_subway  floor  building_age_yrs  ...  has_roofdeck  \\\n",
       "0              1    3.0                83  ...             0   \n",
       "1              9    7.0                 3  ...             0   \n",
       "2              1    2.0                89  ...             0   \n",
       "3             10    3.0                 7  ...             0   \n",
       "4              6    3.0                 9  ...             1   \n",
       "\n",
       "   has_washer_dryer  has_doorman  has_elevator  has_dishwasher  has_patio  \\\n",
       "0                 0            0             0               0          0   \n",
       "1                 0            0             0               0          0   \n",
       "2                 0            0             0               0          0   \n",
       "3                 0            0             0               0          0   \n",
       "4                 0            1             1               0          1   \n",
       "\n",
       "   has_gym      neighborhood         submarket borough  \n",
       "0        0      Forest Hills    Central Queens  Queens  \n",
       "1        0           Astoria  Northwest Queens  Queens  \n",
       "2        0           Astoria  Northwest Queens  Queens  \n",
       "3        0         Briarwood  Northeast Queens  Queens  \n",
       "4        0  Long Island City  Northwest Queens  Queens  \n",
       "\n",
       "[5 rows x 21 columns]"
      ]
     },
     "execution_count": 4,
     "metadata": {},
     "output_type": "execute_result"
    }
   ],
   "source": [
    "queens_one_bed = pd.read_csv('queens-one-bed.csv')\n",
    "queens_one_bed.head()"
   ]
  },
  {
   "cell_type": "markdown",
   "id": "1c7fc5a3",
   "metadata": {},
   "source": [
    "### Summary Statistics"
   ]
  },
  {
   "cell_type": "code",
   "execution_count": 5,
   "id": "93130d0e",
   "metadata": {},
   "outputs": [],
   "source": [
    "# Selecting the rent column\n",
    "brooklyn_price = brooklyn_one_bed['rent']\n",
    "manhattan_price = manhattan_one_bed['rent']\n",
    "queens_price = queens_one_bed['rent']"
   ]
  },
  {
   "cell_type": "code",
   "execution_count": 6,
   "id": "3ce5592e",
   "metadata": {},
   "outputs": [
    {
     "data": {
      "text/plain": [
       "3327.4037512339587"
      ]
     },
     "execution_count": 6,
     "metadata": {},
     "output_type": "execute_result"
    }
   ],
   "source": [
    "# Finding the mean price of Brooklyn apartments\n",
    "brooklyn_mean = np.mean(brooklyn_price)\n",
    "brooklyn_mean"
   ]
  },
  {
   "cell_type": "code",
   "execution_count": 7,
   "id": "0acca8ad",
   "metadata": {},
   "outputs": [
    {
     "data": {
      "text/plain": [
       "3993.4769647696476"
      ]
     },
     "execution_count": 7,
     "metadata": {},
     "output_type": "execute_result"
    }
   ],
   "source": [
    "# Finding the mean price of Manhattan apartments\n",
    "manhattan_mean = np.mean(manhattan_price)\n",
    "manhattan_mean"
   ]
  },
  {
   "cell_type": "code",
   "execution_count": 8,
   "id": "8d210ec9",
   "metadata": {},
   "outputs": [
    {
     "data": {
      "text/plain": [
       "2346.2543103448274"
      ]
     },
     "execution_count": 8,
     "metadata": {},
     "output_type": "execute_result"
    }
   ],
   "source": [
    "# Finding the mean price of Queens apartments\n",
    "queens_mean = np.mean(queens_price)\n",
    "queens_mean"
   ]
  },
  {
   "cell_type": "code",
   "execution_count": 9,
   "id": "04c2fe83",
   "metadata": {},
   "outputs": [
    {
     "data": {
      "text/plain": [
       "3000.0"
      ]
     },
     "execution_count": 9,
     "metadata": {},
     "output_type": "execute_result"
    }
   ],
   "source": [
    "# Finding the median price of Brooklyn apartments\n",
    "brooklyn_median = np.median(brooklyn_price)\n",
    "brooklyn_median"
   ]
  },
  {
   "cell_type": "code",
   "execution_count": 10,
   "id": "5e546d7a",
   "metadata": {},
   "outputs": [
    {
     "data": {
      "text/plain": [
       "3800.0"
      ]
     },
     "execution_count": 10,
     "metadata": {},
     "output_type": "execute_result"
    }
   ],
   "source": [
    "# Finding the median price of Manhattan apartments\n",
    "manhattan_median = np.median(manhattan_price)\n",
    "manhattan_median"
   ]
  },
  {
   "cell_type": "code",
   "execution_count": 11,
   "id": "9a64db66",
   "metadata": {},
   "outputs": [
    {
     "data": {
      "text/plain": [
       "2200.0"
      ]
     },
     "execution_count": 11,
     "metadata": {},
     "output_type": "execute_result"
    }
   ],
   "source": [
    "# Finding the median price of Queens apartments\n",
    "queens_median = np.median(queens_price)\n",
    "queens_median"
   ]
  },
  {
   "cell_type": "code",
   "execution_count": 12,
   "id": "f321421b",
   "metadata": {},
   "outputs": [
    {
     "data": {
      "text/plain": [
       "ModeResult(mode=array([2500], dtype=int64), count=array([26]))"
      ]
     },
     "execution_count": 12,
     "metadata": {},
     "output_type": "execute_result"
    }
   ],
   "source": [
    "# Finding the mode price of Brooklyn apartments\n",
    "brooklyn_mode = stats.mode(brooklyn_price)\n",
    "brooklyn_mode"
   ]
  },
  {
   "cell_type": "code",
   "execution_count": 13,
   "id": "b7f31722",
   "metadata": {},
   "outputs": [
    {
     "data": {
      "text/plain": [
       "ModeResult(mode=array([3500], dtype=int64), count=array([56]))"
      ]
     },
     "execution_count": 13,
     "metadata": {},
     "output_type": "execute_result"
    }
   ],
   "source": [
    "# Finding the mode price of Manhattan apartments\n",
    "manhattan_mode = stats.mode(manhattan_price)\n",
    "manhattan_mode"
   ]
  },
  {
   "cell_type": "code",
   "execution_count": 14,
   "id": "3bf0da86",
   "metadata": {},
   "outputs": [
    {
     "data": {
      "text/plain": [
       "ModeResult(mode=array([1750], dtype=int64), count=array([11]))"
      ]
     },
     "execution_count": 14,
     "metadata": {},
     "output_type": "execute_result"
    }
   ],
   "source": [
    "# Finding the mode price of Queens apartments\n",
    "queens_mode = stats.mode(queens_price)\n",
    "queens_mode"
   ]
  }
 ],
 "metadata": {
  "kernelspec": {
   "display_name": "Python 3",
   "language": "python",
   "name": "python3"
  },
  "language_info": {
   "codemirror_mode": {
    "name": "ipython",
    "version": 3
   },
   "file_extension": ".py",
   "mimetype": "text/x-python",
   "name": "python",
   "nbconvert_exporter": "python",
   "pygments_lexer": "ipython3",
   "version": "3.8.8"
  }
 },
 "nbformat": 4,
 "nbformat_minor": 5
}
